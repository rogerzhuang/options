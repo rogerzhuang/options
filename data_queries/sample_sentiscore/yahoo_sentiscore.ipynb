{
    "metadata": {
        "kernelspec": {
            "name": "python3",
            "display_name": "Python 3",
            "language": "python"
        },
        "language_info": {
            "name": "python",
            "version": "3.11.0",
            "mimetype": "text/x-python",
            "codemirror_mode": {
                "name": "ipython",
                "version": 3
            },
            "pygments_lexer": "ipython3",
            "nbconvert_exporter": "python",
            "file_extension": ".py"
        }
    },
    "nbformat_minor": 2,
    "nbformat": 4,
    "cells": [
        {
            "cell_type": "code",
            "source": [
                "select top 10 * from stocks"
            ],
            "metadata": {
                "azdata_cell_guid": "7842ca8d-18d3-4114-a590-f6ac53db2c4e",
                "language": "python"
            },
            "outputs": [
                {
                    "output_type": "display_data",
                    "data": {
                        "text/html": "(10 rows affected)"
                    },
                    "metadata": {}
                },
                {
                    "output_type": "display_data",
                    "data": {
                        "text/html": "Total execution time: 00:00:00.210"
                    },
                    "metadata": {}
                },
                {
                    "output_type": "execute_result",
                    "execution_count": 1,
                    "data": {
                        "application/vnd.dataresource+json": {
                            "schema": {
                                "fields": [
                                    {
                                        "name": "ticker"
                                    },
                                    {
                                        "name": "gics"
                                    }
                                ]
                            },
                            "data": [
                                {
                                    "ticker": "MSFT",
                                    "gics": "Technology"
                                },
                                {
                                    "ticker": "NVO",
                                    "gics": "NULL"
                                },
                                {
                                    "ticker": "LIN",
                                    "gics": "INDUSTRIAL INORGANIC CHEMICALS"
                                },
                                {
                                    "ticker": "NEE",
                                    "gics": "ELECTRIC SERVICES"
                                },
                                {
                                    "ticker": "ARM",
                                    "gics": "NULL"
                                },
                                {
                                    "ticker": "CL",
                                    "gics": "PERFUMES, COSMETICS & OTHER TOILET PREPARATIONS"
                                },
                                {
                                    "ticker": "NTES",
                                    "gics": "NULL"
                                },
                                {
                                    "ticker": "FTNT",
                                    "gics": "COMPUTER PERIPHERAL EQUIPMENT, NEC"
                                },
                                {
                                    "ticker": "EL",
                                    "gics": "PERFUMES, COSMETICS & OTHER TOILET PREPARATIONS"
                                },
                                {
                                    "ticker": "DLR",
                                    "gics": "REAL ESTATE INVESTMENT TRUSTS"
                                }
                            ]
                        },
                        "text/html": "<table><tr><th>ticker</th><th>gics</th></tr><tr><td>MSFT</td><td>Technology</td></tr><tr><td>NVO</td><td>NULL</td></tr><tr><td>LIN</td><td>INDUSTRIAL INORGANIC CHEMICALS</td></tr><tr><td>NEE</td><td>ELECTRIC SERVICES</td></tr><tr><td>ARM</td><td>NULL</td></tr><tr><td>CL</td><td>PERFUMES, COSMETICS &amp; OTHER TOILET PREPARATIONS</td></tr><tr><td>NTES</td><td>NULL</td></tr><tr><td>FTNT</td><td>COMPUTER PERIPHERAL EQUIPMENT, NEC</td></tr><tr><td>EL</td><td>PERFUMES, COSMETICS &amp; OTHER TOILET PREPARATIONS</td></tr><tr><td>DLR</td><td>REAL ESTATE INVESTMENT TRUSTS</td></tr></table>"
                    },
                    "metadata": {}
                }
            ],
            "execution_count": 1
        },
        {
            "cell_type": "code",
            "source": [
                "select top 10 * from news where article_url = '2ìº“à£œysts weigh in on Live'"
            ],
            "metadata": {
                "language": "python",
                "azdata_cell_guid": "7ac654a9-ca25-462d-82a5-dbe2bb532129"
            },
            "outputs": [
                {
                    "output_type": "display_data",
                    "data": {
                        "text/html": "(0 rows affected)"
                    },
                    "metadata": {}
                },
                {
                    "output_type": "display_data",
                    "data": {
                        "text/html": "Total execution time: 00:00:00.602"
                    },
                    "metadata": {}
                },
                {
                    "output_type": "execute_result",
                    "execution_count": 19,
                    "data": {
                        "application/vnd.dataresource+json": {
                            "schema": {
                                "fields": [
                                    {
                                        "name": "id"
                                    },
                                    {
                                        "name": "exch_time"
                                    },
                                    {
                                        "name": "published_utc"
                                    },
                                    {
                                        "name": "publisher_name"
                                    },
                                    {
                                        "name": "title"
                                    },
                                    {
                                        "name": "author"
                                    },
                                    {
                                        "name": "article_url"
                                    },
                                    {
                                        "name": "content"
                                    }
                                ]
                            },
                            "data": []
                        },
                        "text/html": "<table><tr><th>id</th><th>exch_time</th><th>published_utc</th><th>publisher_name</th><th>title</th><th>author</th><th>article_url</th><th>content</th></tr></table>"
                    },
                    "metadata": {}
                }
            ],
            "execution_count": 19
        },
        {
            "cell_type": "code",
            "source": [
                "select top 10 * from news_securities"
            ],
            "metadata": {
                "language": "python",
                "azdata_cell_guid": "198af868-5b50-4396-abae-0ba4c73553b8"
            },
            "outputs": [
                {
                    "output_type": "display_data",
                    "data": {
                        "text/html": "(10 rows affected)"
                    },
                    "metadata": {}
                },
                {
                    "output_type": "display_data",
                    "data": {
                        "text/html": "Total execution time: 00:00:00.159"
                    },
                    "metadata": {}
                },
                {
                    "output_type": "execute_result",
                    "execution_count": 3,
                    "data": {
                        "application/vnd.dataresource+json": {
                            "schema": {
                                "fields": [
                                    {
                                        "name": "news_id"
                                    },
                                    {
                                        "name": "ticker"
                                    },
                                    {
                                        "name": "sentiment"
                                    }
                                ]
                            },
                            "data": [
                                {
                                    "news_id": "__0ONpxukpbSsW6sN15OoMEpDRaDxwUx770JFeCO9l0",
                                    "ticker": "TOST",
                                    "sentiment": "63"
                                },
                                {
                                    "news_id": "__26NaIaSh-KJaWIYiZYmnZF0kuPPllqVMdcdE2XbI8",
                                    "ticker": "NOK",
                                    "sentiment": "45"
                                },
                                {
                                    "news_id": "__BS2NBW0556RWTmMX_qlkbcGQASKKXAENx6QX0CL5k",
                                    "ticker": "HUM",
                                    "sentiment": "68"
                                },
                                {
                                    "news_id": "__DmwPAl8y54TPXA_UDPuULGJ6wQgEeVWO8ktpnbpt0",
                                    "ticker": "HOOD",
                                    "sentiment": "67"
                                },
                                {
                                    "news_id": "__KoaP-ADBO-0utahZL-NzScr7UHMd6mZNQj3cgHWEk",
                                    "ticker": "ASO",
                                    "sentiment": "42"
                                },
                                {
                                    "news_id": "__MLbcOewXujpKVbysABILWkWuL9flmvdhXNjduLgro",
                                    "ticker": "PANW",
                                    "sentiment": "75"
                                },
                                {
                                    "news_id": "__oTCeVixm-vJ43-lwsfGdxHByi7XlNxMPVattwhBFk",
                                    "ticker": "MRVL",
                                    "sentiment": "74"
                                },
                                {
                                    "news_id": "__SxQrml6Ykt9vn1jrSif2H6dic42hMBUhm9trdEj7c",
                                    "ticker": "CLF",
                                    "sentiment": "48"
                                },
                                {
                                    "news_id": "__t36he_t4iByeFem_vA8duZaAprMrkoXHDBSoHcivU",
                                    "ticker": "LULU",
                                    "sentiment": "54"
                                },
                                {
                                    "news_id": "__vrwuIoQ0FyWVarmOvieDynb4D4lYbctalJ7iKIFPg",
                                    "ticker": "SRPT",
                                    "sentiment": "87"
                                }
                            ]
                        },
                        "text/html": "<table><tr><th>news_id</th><th>ticker</th><th>sentiment</th></tr><tr><td>__0ONpxukpbSsW6sN15OoMEpDRaDxwUx770JFeCO9l0</td><td>TOST</td><td>63</td></tr><tr><td>__26NaIaSh-KJaWIYiZYmnZF0kuPPllqVMdcdE2XbI8</td><td>NOK</td><td>45</td></tr><tr><td>__BS2NBW0556RWTmMX_qlkbcGQASKKXAENx6QX0CL5k</td><td>HUM</td><td>68</td></tr><tr><td>__DmwPAl8y54TPXA_UDPuULGJ6wQgEeVWO8ktpnbpt0</td><td>HOOD</td><td>67</td></tr><tr><td>__KoaP-ADBO-0utahZL-NzScr7UHMd6mZNQj3cgHWEk</td><td>ASO</td><td>42</td></tr><tr><td>__MLbcOewXujpKVbysABILWkWuL9flmvdhXNjduLgro</td><td>PANW</td><td>75</td></tr><tr><td>__oTCeVixm-vJ43-lwsfGdxHByi7XlNxMPVattwhBFk</td><td>MRVL</td><td>74</td></tr><tr><td>__SxQrml6Ykt9vn1jrSif2H6dic42hMBUhm9trdEj7c</td><td>CLF</td><td>48</td></tr><tr><td>__t36he_t4iByeFem_vA8duZaAprMrkoXHDBSoHcivU</td><td>LULU</td><td>54</td></tr><tr><td>__vrwuIoQ0FyWVarmOvieDynb4D4lYbctalJ7iKIFPg</td><td>SRPT</td><td>87</td></tr></table>"
                    },
                    "metadata": {}
                }
            ],
            "execution_count": 3
        },
        {
            "cell_type": "code",
            "source": [
                "SELECT TOP 10 s.ticker, n.title, SUBSTRING(n.content, 1, 500) AS short_content, n.published_utc\r\n",
                "FROM stocks s\r\n",
                "INNER JOIN news_securities ns ON s.ticker = ns.ticker\r\n",
                "INNER JOIN news n ON n.id = ns.news_id\r\n",
                "WHERE n.publisher_name = 'Yahoo'\r\n",
                "ORDER BY n.published_utc DESC;\r\n",
                "\r\n",
                "\r\n",
                ""
            ],
            "metadata": {
                "azdata_cell_guid": "0b3d9977-2410-4344-922f-622d1fa59462",
                "language": "python"
            },
            "outputs": [
                {
                    "output_type": "display_data",
                    "data": {
                        "text/html": "(10 rows affected)"
                    },
                    "metadata": {}
                },
                {
                    "output_type": "display_data",
                    "data": {
                        "text/html": "Total execution time: 00:00:00.939"
                    },
                    "metadata": {}
                },
                {
                    "output_type": "execute_result",
                    "metadata": {},
                    "execution_count": 5,
                    "data": {
                        "application/vnd.dataresource+json": {
                            "schema": {
                                "fields": [
                                    {
                                        "name": "ticker"
                                    },
                                    {
                                        "name": "title"
                                    },
                                    {
                                        "name": "short_content"
                                    },
                                    {
                                        "name": "published_utc"
                                    }
                                ]
                            },
                            "data": [
                                {
                                    "ticker": "ORCL",
                                    "title": "Nordstrom Buyout Price Could Be Just a Starting Point. Plus, Abercrombie, Oracle, and More Stocks.",
                                    "short_content": "Analysts weigh in on Live Nation Entertainment, Phinia, Nordstrom, Abercrombie & Fitch, Beazer Homes, and Oracle. Sign in to access your portfolio",
                                    "published_utc": "2024-09-06 16:44:00.0000000"
                                },
                                {
                                    "ticker": "PLTR",
                                    "title": "Palantir Technologies, Dell Technologies, and Erie Indemnity Set to Join S&P 500; Others to Join S&P MidCap 400 and S&P SmallCap 600",
                                    "short_content": "NEW YORK , Sept. 6, 2024 /PRNewswire/ -- S&P Dow Jones Indices (\"S&P DJI\") will make the following changes to the S&P 500, S&P MidCap 400, and S&P SmallCap 600 indices effective prior to the open of trading on Monday, September 23 , to coincide with the quarterly rebalance. The changes ensure each index is more representative of its market capitalization range. All companies being added to the S&P 500 are more representative of the large-cap market space, all companies being added to the S&P Mid",
                                    "published_utc": "2024-09-06 15:43:00.0000000"
                                },
                                {
                                    "ticker": "AAL",
                                    "title": "Palantir Technologies, Dell Technologies, and Erie Indemnity Set to Join S&P 500; Others to Join S&P MidCap 400 and S&P SmallCap 600",
                                    "short_content": "NEW YORK , Sept. 6, 2024 /PRNewswire/ -- S&P Dow Jones Indices (\"S&P DJI\") will make the following changes to the S&P 500, S&P MidCap 400, and S&P SmallCap 600 indices effective prior to the open of trading on Monday, September 23 , to coincide with the quarterly rebalance. The changes ensure each index is more representative of its market capitalization range. All companies being added to the S&P 500 are more representative of the large-cap market space, all companies being added to the S&P Mid",
                                    "published_utc": "2024-09-06 15:43:00.0000000"
                                },
                                {
                                    "ticker": "DELL",
                                    "title": "Palantir Technologies, Dell Technologies, and Erie Indemnity Set to Join S&P 500; Others to Join S&P MidCap 400 and S&P SmallCap 600",
                                    "short_content": "NEW YORK , Sept. 6, 2024 /PRNewswire/ -- S&P Dow Jones Indices (\"S&P DJI\") will make the following changes to the S&P 500, S&P MidCap 400, and S&P SmallCap 600 indices effective prior to the open of trading on Monday, September 23 , to coincide with the quarterly rebalance. The changes ensure each index is more representative of its market capitalization range. All companies being added to the S&P 500 are more representative of the large-cap market space, all companies being added to the S&P Mid",
                                    "published_utc": "2024-09-06 15:43:00.0000000"
                                },
                                {
                                    "ticker": "DELL",
                                    "title": "Palantir, Dell Among New S&P 500 Members as Index Rebalances",
                                    "short_content": "(Bloomberg) -- Palantir Technologies Inc., Dell Technologies Inc. and Erie Indemnity Co. are set to join the S&P 500 as part of its latest quarterly weighting change. Most Read from Bloomberg World's Second Tallest Tower Spurs Debate About Who Needs It The Plan for the World’s Most Ambitious Skyscraper Renovation UC Berkeley Gives Transfer Students a Purpose-Built Home on Campus How Americans Voted Their Way Into a Housing Crisis Rome May Start Charging Entry to the Trevi Fountain The companies ",
                                    "published_utc": "2024-09-06 15:34:23.0000000"
                                },
                                {
                                    "ticker": "PLTR",
                                    "title": "Palantir, Dell Among New S&P 500 Members as Index Rebalances",
                                    "short_content": "(Bloomberg) -- Palantir Technologies Inc., Dell Technologies Inc. and Erie Indemnity Co. are set to join the S&P 500 as part of its latest quarterly weighting change. Most Read from Bloomberg World's Second Tallest Tower Spurs Debate About Who Needs It The Plan for the World’s Most Ambitious Skyscraper Renovation UC Berkeley Gives Transfer Students a Purpose-Built Home on Campus How Americans Voted Their Way Into a Housing Crisis Rome May Start Charging Entry to the Trevi Fountain The companies ",
                                    "published_utc": "2024-09-06 15:34:23.0000000"
                                },
                                {
                                    "ticker": "PLTR",
                                    "title": "Palantir, Dell Stocks Jump on S&P 500 Addition",
                                    "short_content": "Investors love it when a stock gets added to the —and they’re showing that love for Palantir Technologies Dell Technologies and Erie Indemnity after the three stocks were added to the index following Friday’s market close. S&P Dow Jones Indices announced Friday evening that Palantir would replace American Airlines Dell would replace Etsy and Erie would replace Bio-Rad Laboratories in the S&P 500 before the start of trading on Sept. 23. Sign in to access your portfolio",
                                    "published_utc": "2024-09-06 15:23:00.0000000"
                                },
                                {
                                    "ticker": "DELL",
                                    "title": "Palantir, Dell Stocks Jump on S&P 500 Addition",
                                    "short_content": "Investors love it when a stock gets added to the —and they’re showing that love for Palantir Technologies Dell Technologies and Erie Indemnity after the three stocks were added to the index following Friday’s market close. S&P Dow Jones Indices announced Friday evening that Palantir would replace American Airlines Dell would replace Etsy and Erie would replace Bio-Rad Laboratories in the S&P 500 before the start of trading on Sept. 23. Sign in to access your portfolio",
                                    "published_utc": "2024-09-06 15:23:00.0000000"
                                },
                                {
                                    "ticker": "SMCI",
                                    "title": "Political Solution to Economic Problems",
                                    "short_content": "JD Vance and Kamala Harris are proposing steps to lower these costs. Vance proposed increasing the federal tax credit. Harris has floated initiatives for restoring and expanding tax credits for parents and increasing the U.S. housing supply. Sign in to access your portfolio",
                                    "published_utc": "2024-09-06 15:20:00.0000000"
                                },
                                {
                                    "ticker": "PLTR",
                                    "title": "Dell, Palantir and Erie Indemnity to join S&P 500",
                                    "short_content": "(Reuters) - The S&P Dow Jones Indices said on Friday server maker Dell Technologies, data analytics firm Palantir Technologies and property and casualty insurer Erie Indemnity will join the benchmark S&P 500 before the market opens on Sept. 23. Shares of Palantir rose nearly 8% in extended trading, while those of Dell and Erie rose 6% and 3%, respectively. The three companies will replace American Airlines Group, online marketplace Etsy and diagnostics company Bio-Rad Laboratories in the index. ",
                                    "published_utc": "2024-09-06 15:16:01.0000000"
                                }
                            ]
                        },
                        "text/html": [
                            "<table>",
                            "<tr><th>ticker</th><th>title</th><th>short_content</th><th>published_utc</th></tr>",
                            "<tr><td>ORCL</td><td>Nordstrom Buyout Price Could Be Just a Starting Point. Plus, Abercrombie, Oracle, and More Stocks.</td><td>Analysts weigh in on Live Nation Entertainment, Phinia, Nordstrom, Abercrombie &amp; Fitch, Beazer Homes, and Oracle. Sign in to access your portfolio</td><td>2024-09-06 16:44:00.0000000</td></tr>",
                            "<tr><td>PLTR</td><td>Palantir Technologies, Dell Technologies, and Erie Indemnity Set to Join S&amp;P 500; Others to Join S&amp;P MidCap 400 and S&amp;P SmallCap 600</td><td>NEW YORK , Sept. 6, 2024 /PRNewswire/ -- S&amp;P Dow Jones Indices (&quot;S&amp;P DJI&quot;) will make the following changes to the S&amp;P 500, S&amp;P MidCap 400, and S&amp;P SmallCap 600 indices effective prior to the open of trading on Monday, September 23 , to coincide with the quarterly rebalance. The changes ensure each index is more representative of its market capitalization range. All companies being added to the S&amp;P 500 are more representative of the large-cap market space, all companies being added to the S&amp;P Mid</td><td>2024-09-06 15:43:00.0000000</td></tr>",
                            "<tr><td>AAL</td><td>Palantir Technologies, Dell Technologies, and Erie Indemnity Set to Join S&amp;P 500; Others to Join S&amp;P MidCap 400 and S&amp;P SmallCap 600</td><td>NEW YORK , Sept. 6, 2024 /PRNewswire/ -- S&amp;P Dow Jones Indices (&quot;S&amp;P DJI&quot;) will make the following changes to the S&amp;P 500, S&amp;P MidCap 400, and S&amp;P SmallCap 600 indices effective prior to the open of trading on Monday, September 23 , to coincide with the quarterly rebalance. The changes ensure each index is more representative of its market capitalization range. All companies being added to the S&amp;P 500 are more representative of the large-cap market space, all companies being added to the S&amp;P Mid</td><td>2024-09-06 15:43:00.0000000</td></tr>",
                            "<tr><td>DELL</td><td>Palantir Technologies, Dell Technologies, and Erie Indemnity Set to Join S&amp;P 500; Others to Join S&amp;P MidCap 400 and S&amp;P SmallCap 600</td><td>NEW YORK , Sept. 6, 2024 /PRNewswire/ -- S&amp;P Dow Jones Indices (&quot;S&amp;P DJI&quot;) will make the following changes to the S&amp;P 500, S&amp;P MidCap 400, and S&amp;P SmallCap 600 indices effective prior to the open of trading on Monday, September 23 , to coincide with the quarterly rebalance. The changes ensure each index is more representative of its market capitalization range. All companies being added to the S&amp;P 500 are more representative of the large-cap market space, all companies being added to the S&amp;P Mid</td><td>2024-09-06 15:43:00.0000000</td></tr>",
                            "<tr><td>DELL</td><td>Palantir, Dell Among New S&amp;P 500 Members as Index Rebalances</td><td>(Bloomberg) -- Palantir Technologies Inc., Dell Technologies Inc. and Erie Indemnity Co. are set to join the S&amp;P 500 as part of its latest quarterly weighting change. Most Read from Bloomberg World&#39;s Second Tallest Tower Spurs Debate About Who Needs It The Plan for the World’s Most Ambitious Skyscraper Renovation UC Berkeley Gives Transfer Students a Purpose-Built Home on Campus How Americans Voted Their Way Into a Housing Crisis Rome May Start Charging Entry to the Trevi Fountain The companies </td><td>2024-09-06 15:34:23.0000000</td></tr>",
                            "<tr><td>PLTR</td><td>Palantir, Dell Among New S&amp;P 500 Members as Index Rebalances</td><td>(Bloomberg) -- Palantir Technologies Inc., Dell Technologies Inc. and Erie Indemnity Co. are set to join the S&amp;P 500 as part of its latest quarterly weighting change. Most Read from Bloomberg World&#39;s Second Tallest Tower Spurs Debate About Who Needs It The Plan for the World’s Most Ambitious Skyscraper Renovation UC Berkeley Gives Transfer Students a Purpose-Built Home on Campus How Americans Voted Their Way Into a Housing Crisis Rome May Start Charging Entry to the Trevi Fountain The companies </td><td>2024-09-06 15:34:23.0000000</td></tr>",
                            "<tr><td>PLTR</td><td>Palantir, Dell Stocks Jump on S&amp;P 500 Addition</td><td>Investors love it when a stock gets added to the —and they’re showing that love for Palantir Technologies Dell Technologies and Erie Indemnity after the three stocks were added to the index following Friday’s market close. S&amp;P Dow Jones Indices announced Friday evening that Palantir would replace American Airlines Dell would replace Etsy and Erie would replace Bio-Rad Laboratories in the S&amp;P 500 before the start of trading on Sept. 23. Sign in to access your portfolio</td><td>2024-09-06 15:23:00.0000000</td></tr>",
                            "<tr><td>DELL</td><td>Palantir, Dell Stocks Jump on S&amp;P 500 Addition</td><td>Investors love it when a stock gets added to the —and they’re showing that love for Palantir Technologies Dell Technologies and Erie Indemnity after the three stocks were added to the index following Friday’s market close. S&amp;P Dow Jones Indices announced Friday evening that Palantir would replace American Airlines Dell would replace Etsy and Erie would replace Bio-Rad Laboratories in the S&amp;P 500 before the start of trading on Sept. 23. Sign in to access your portfolio</td><td>2024-09-06 15:23:00.0000000</td></tr>",
                            "<tr><td>SMCI</td><td>Political Solution to Economic Problems</td><td>JD Vance and Kamala Harris are proposing steps to lower these costs. Vance proposed increasing the federal tax credit. Harris has floated initiatives for restoring and expanding tax credits for parents and increasing the U.S. housing supply. Sign in to access your portfolio</td><td>2024-09-06 15:20:00.0000000</td></tr>",
                            "<tr><td>PLTR</td><td>Dell, Palantir and Erie Indemnity to join S&amp;P 500</td><td>(Reuters) - The S&amp;P Dow Jones Indices said on Friday server maker Dell Technologies, data analytics firm Palantir Technologies and property and casualty insurer Erie Indemnity will join the benchmark S&amp;P 500 before the market opens on Sept. 23. Shares of Palantir rose nearly 8% in extended trading, while those of Dell and Erie rose 6% and 3%, respectively. The three companies will replace American Airlines Group, online marketplace Etsy and diagnostics company Bio-Rad Laboratories in the index. </td><td>2024-09-06 15:16:01.0000000</td></tr>",
                            "</table>"
                        ]
                    }
                }
            ],
            "execution_count": 5
        },
        {
            "cell_type": "code",
            "source": [
                "import pyodbc\r\n",
                "import csv\r\n",
                "\r\n",
                "# Database connection parameters\r\n",
                "connection = pyodbc.connect('DSN=sql01.qedgeam.com\\sql_trader;UID=sa;PWD=axl320n24h')\r\n",
                "cursor = connection.cursor()\r\n",
                "\r\n",
                "# Your query\r\n",
                "query = '''\r\n",
                "SELECT top 10 s.ticker, n.title, n.content, n.published_utc\r\n",
                "FROM stocks s\r\n",
                "INNER JOIN news_securities ns ON s.ticker = ns.ticker\r\n",
                "INNER JOIN news n ON n.id = ns.news_id\r\n",
                "WHERE n.publisher_name = 'Yahoo'\r\n",
                "ORDER BY n.published_utc DESC;\r\n",
                "'''\r\n",
                "\r\n",
                "# Execute the query\r\n",
                "cursor.execute(query)\r\n",
                "\r\n",
                "# Open a file to write the results to\r\n",
                "with open('output.csv', 'w', newline='', encoding='utf-8') as csvfile:\r\n",
                "    writer = csv.writer(csvfile)\r\n",
                "    \r\n",
                "    # Write the column headers\r\n",
                "    writer.writerow([i[0] for i in cursor.description])\r\n",
                "    \r\n",
                "    # Write the rows\r\n",
                "    for row in cursor.fetchall():\r\n",
                "        writer.writerow(row)\r\n",
                "\r\n",
                "# Close the database connection\r\n",
                "connection.close()\r\n",
                ""
            ],
            "metadata": {
                "language": "python",
                "azdata_cell_guid": "9e5cb8af-021c-4837-b4fc-03aa84e169ce"
            },
            "outputs": [
                {
                    "traceback": [
                        "\u001b[1;31m---------------------------------------------------------------------------\u001b[0m",
                        "\u001b[1;31mModuleNotFoundError\u001b[0m                       Traceback (most recent call last)",
                        "Cell \u001b[1;32mIn[1], line 1\u001b[0m\n\u001b[1;32m----> 1\u001b[0m \u001b[38;5;28;01mimport\u001b[39;00m \u001b[38;5;21;01mpyodbc\u001b[39;00m\n\u001b[0;32m      2\u001b[0m \u001b[38;5;28;01mimport\u001b[39;00m \u001b[38;5;21;01mcsv\u001b[39;00m\n\u001b[0;32m      4\u001b[0m \u001b[38;5;66;03m# Database connection parameters\u001b[39;00m\n",
                        "\u001b[1;31mModuleNotFoundError\u001b[0m: No module named 'pyodbc'"
                    ],
                    "ename": "ModuleNotFoundError",
                    "evalue": "No module named 'pyodbc'",
                    "output_type": "error"
                }
            ],
            "execution_count": 1
        }
    ]
}